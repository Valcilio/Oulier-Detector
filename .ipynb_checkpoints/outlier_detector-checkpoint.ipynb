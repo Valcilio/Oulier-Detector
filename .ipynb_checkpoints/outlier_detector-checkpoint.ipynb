{
 "cells": [
  {
   "cell_type": "markdown",
   "id": "2eaeb2fe",
   "metadata": {
    "heading_collapsed": true
   },
   "source": [
    "# Imports"
   ]
  },
  {
   "cell_type": "code",
   "execution_count": null,
   "id": "415f9ad0",
   "metadata": {
    "hidden": true
   },
   "outputs": [],
   "source": [
    "# biblioteca do modelo\n",
    "from statsmodels.tsa.statespace.sarimax import SARIMAX"
   ]
  },
  {
   "cell_type": "markdown",
   "id": "83133a0d",
   "metadata": {
    "heading_collapsed": true
   },
   "source": [
    "# Helper Functions"
   ]
  },
  {
   "cell_type": "code",
   "execution_count": null,
   "id": "c96e7ba8",
   "metadata": {
    "hidden": true
   },
   "outputs": [],
   "source": [
    "#function to adjust the seaborn plots\n",
    "def jupyter_settings():\n",
    "    %matplotlib inline\n",
    "    %pylab inline\n",
    "    \n",
    "    plt.style.use( 'bmh' )\n",
    "    plt.rcParams['figure.figsize'] = [25, 20]\n",
    "    plt.rcParams['font.size'] = 30\n",
    "    \n",
    "    sns.set()"
   ]
  },
  {
   "cell_type": "markdown",
   "id": "3485102f",
   "metadata": {
    "heading_collapsed": true
   },
   "source": [
    "# Models"
   ]
  },
  {
   "cell_type": "markdown",
   "id": "e06ec1a6",
   "metadata": {
    "hidden": true
   },
   "source": [
    "***Passo a Passo Para o SARIMAX:***\n",
    "\n",
    "1.-> Setar a data como index.\n",
    "\n",
    "2.-> Transformar o valor principal da variável resposta em logarítimo."
   ]
  },
  {
   "cell_type": "code",
   "execution_count": null,
   "id": "c38153e0",
   "metadata": {
    "hidden": true
   },
   "outputs": [],
   "source": [
    "# ------------------------------- EXEMPLO DE CÓDIGO DO MODELO --------------------------------------\n",
    "\n",
    "# definindo o modelo \n",
    "sx = SARIMAX(X_train['response'], order=(1, 1, 1), seasonal_order=(1,1,1,12), X_train['exogenorous_regressor'])\n",
    "\n",
    "# treinando o modelo\n",
    "res = sx.fit(disp=False)\n",
    "\n",
    "# realizando predição\n",
    "yhat_sx = res.predict(start=len(X_train) + 103, end=len(X_train) + 274, exog=X_test['exogenorous_regressor'])\n",
    "\n",
    "# calculando métricas\n",
    "sx_result = ml_error('SARIMAX', np.expm1(X_test['response']), np.expm1(yhat_sx))\n",
    "sx_result"
   ]
  },
  {
   "cell_type": "markdown",
   "id": "fb3cfa76",
   "metadata": {
    "heading_collapsed": true
   },
   "source": [
    "# Análise de Outliers"
   ]
  },
  {
   "cell_type": "markdown",
   "id": "25c533ba",
   "metadata": {
    "hidden": true
   },
   "source": [
    "***Etapa 01:***\n",
    "\n",
    "- Boxplots para entender em que ponto começa os outliers de acordo com cada variável.\n",
    "- Análise de Distplot para poder comparar com os Boxplots.\n",
    "- Utilizar um Regplot para poder entender a tendência passada em comparação com a distribuição no período passado.\n",
    "\n",
    "***Etapa 02:***\n",
    "\n",
    "- Chegar a uma média atráves dos resultados dos Distplots e Boxplots, para identificar o que seriam considerado outliers que esteja de acordo com o apresentado no Regplot.\n",
    "\n",
    "***Etapa 03:***\n",
    "\n",
    "- Análise de Correlação com o intuito de compreender quais as variáveis que tem mais indicado os outliers.\n",
    "- Fazer observações especiais quanto a essas variáveis com maior impacto.\n",
    "- Estudar mais a fundo tais variáveis.\n",
    "\n",
    "***Etapa 04:***\n",
    "\n",
    "- Arquitetar esses resultados em um arquivo .py para ser usado no sistema de alerta quanto a outliers."
   ]
  },
  {
   "cell_type": "markdown",
   "id": "30dc7842",
   "metadata": {
    "heading_collapsed": true
   },
   "source": [
    "# Outlier Detector Architecture"
   ]
  },
  {
   "cell_type": "markdown",
   "id": "c3bdfd66",
   "metadata": {
    "hidden": true
   },
   "source": [
    "***Etapa 01:***\n",
    "\n",
    "- Testes dos modelos.\n",
    "- Seleção dos modelos.\n",
    "- Desenvolvimento dos modelos.\n",
    "\n",
    "***Etapa 02:***\n",
    "\n",
    "- O modelo roda e traz uma previsão para a próxima semana.\n",
    "- É encontrada a média da previsão.\n",
    "- É encontrado o desvio padrão da previsão.\n",
    "- Tudo abaixo dessa média prevista menos o desvio padrão real, ou acima dessa média prevista mais o desvio padrão real, será considerado um outlier e deverá ser avisado pelo bot.\n",
    "\n",
    "***Etapa 03:***\n",
    "\n",
    "- Criação da classe do modelo.\n",
    "- Implementação da classe em um arquivo .py .\n",
    "- Criação do API Handler.\n",
    "\n",
    "***Etapa 04:***\n",
    "\n",
    "- Implementação da chamada do modelo pelo bot semanalmente às sexta-feiras para entregar a previsão da próxima semana, extraindo e mandando os dados para ele.\n",
    "- Implementação dos cálculos de desvio padrão no programa do bot e da utilização de forma que seja escalável para toda e qualquer necessidade futura."
   ]
  },
  {
   "cell_type": "markdown",
   "id": "60e76969",
   "metadata": {
    "hidden": true
   },
   "source": [
    "***OBS1:*** Cada conjunto de dados terá seu modelo individual para poder fazer sua indicação de outlier.\n",
    "\n",
    "***OBS2:*** O ideal é que cada modelo seja retreinado semanalmente ou quinzenalmente para que não haja grande perda de performance."
   ]
  }
 ],
 "metadata": {
  "hide_input": false,
  "kernelspec": {
   "display_name": "Python 3",
   "language": "python",
   "name": "python3"
  },
  "language_info": {
   "codemirror_mode": {
    "name": "ipython",
    "version": 3
   },
   "file_extension": ".py",
   "mimetype": "text/x-python",
   "name": "python",
   "nbconvert_exporter": "python",
   "pygments_lexer": "ipython3",
   "version": "3.9.4"
  },
  "latex_envs": {
   "LaTeX_envs_menu_present": true,
   "autoclose": false,
   "autocomplete": true,
   "bibliofile": "biblio.bib",
   "cite_by": "apalike",
   "current_citInitial": 1,
   "eqLabelWithNumbers": true,
   "eqNumInitial": 1,
   "hotkeys": {
    "equation": "Ctrl-E",
    "itemize": "Ctrl-I"
   },
   "labels_anchors": false,
   "latex_user_defs": false,
   "report_style_numbering": false,
   "user_envs_cfg": false
  },
  "varInspector": {
   "cols": {
    "lenName": 16,
    "lenType": 16,
    "lenVar": 40
   },
   "kernels_config": {
    "python": {
     "delete_cmd_postfix": "",
     "delete_cmd_prefix": "del ",
     "library": "var_list.py",
     "varRefreshCmd": "print(var_dic_list())"
    },
    "r": {
     "delete_cmd_postfix": ") ",
     "delete_cmd_prefix": "rm(",
     "library": "var_list.r",
     "varRefreshCmd": "cat(var_dic_list()) "
    }
   },
   "types_to_exclude": [
    "module",
    "function",
    "builtin_function_or_method",
    "instance",
    "_Feature"
   ],
   "window_display": false
  }
 },
 "nbformat": 4,
 "nbformat_minor": 5
}
